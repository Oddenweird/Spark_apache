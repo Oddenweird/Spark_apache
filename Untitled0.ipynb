{
  "nbformat": 4,
  "nbformat_minor": 0,
  "metadata": {
    "colab": {
      "provenance": []
    },
    "kernelspec": {
      "name": "python3",
      "display_name": "Python 3"
    },
    "language_info": {
      "name": "python"
    }
  },
  "cells": [
    {
      "cell_type": "code",
      "execution_count": 40,
      "metadata": {
        "id": "Y0jcKuyPSWcF"
      },
      "outputs": [],
      "source": [
        "from pyspark import SparkContext"
      ]
    },
    {
      "cell_type": "code",
      "source": [
        "sc = SparkContext(\"local\", \"Longest Ordered Sequence\")\n",
        "data = [1, 2, 3, 4, 6, 7, 8, 10, 11, 12, 13, 14, 16, 20]\n",
        "rdd = sc.parallelize(data)\n",
        "\n",
        "# Функция для нахождения самой длинной последовательности упорядоченных чисел\n",
        "def longest_ordered_sequence(rdd):\n",
        "\n",
        "    sorted_rdd = rdd.sortBy(lambda x: x)\n",
        "\n",
        "\n",
        "    max_length = 0\n",
        "    current_length = 1\n",
        "    longest_sequence = []\n",
        "    current_sequence = []\n",
        "\n",
        "    sorted_numbers = sorted_rdd.collect()\n",
        "\n",
        "    for i in range(len(sorted_numbers)):\n",
        "        if i == 0:\n",
        "            current_sequence.append(sorted_numbers[i])\n",
        "        elif sorted_numbers[i] == sorted_numbers[i - 1] + 1:\n",
        "            current_sequence.append(sorted_numbers[i])\n",
        "            current_length += 1\n",
        "        else:\n",
        "            # Проверка, является ли текущая последовательность самой длинной\n",
        "            if current_length > max_length:\n",
        "                max_length = current_length\n",
        "                longest_sequence = current_sequence.copy()\n",
        "            # Сброс текущей последовательности\n",
        "            current_sequence = [sorted_numbers[i]]\n",
        "            current_length = 1\n",
        "    if current_length > max_length:\n",
        "        longest_sequence = current_sequence\n",
        "\n",
        "    return longest_sequence"
      ],
      "metadata": {
        "id": "LVYx9eYUTBra"
      },
      "execution_count": 55,
      "outputs": []
    },
    {
      "cell_type": "code",
      "source": [
        "result = longest_ordered_sequence(rdd)\n",
        "print(\"Самая длинная последовательность упорядоченных чисел в РДД:\", result)\n",
        "sc.stop()"
      ],
      "metadata": {
        "colab": {
          "base_uri": "https://localhost:8080/"
        },
        "id": "2sZF6YfwTGoT",
        "outputId": "fc36dcfa-6409-44d9-ad4e-b50de6f84e1e"
      },
      "execution_count": 56,
      "outputs": [
        {
          "output_type": "stream",
          "name": "stdout",
          "text": [
            "Самая длинная последовательность упорядоченных чисел в РДД: [10, 11, 12, 13, 14]\n"
          ]
        }
      ]
    },
    {
      "cell_type": "code",
      "source": [
        "sc.stop()"
      ],
      "metadata": {
        "id": "C1VXtidZTIfr"
      },
      "execution_count": 53,
      "outputs": []
    }
  ]
}